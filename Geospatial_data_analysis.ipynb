{
  "nbformat": 4,
  "nbformat_minor": 0,
  "metadata": {
    "colab": {
      "provenance": [],
      "authorship_tag": "ABX9TyMDXY2UM6/R/5Aw93xlMiDu",
      "include_colab_link": true
    },
    "kernelspec": {
      "name": "python3",
      "display_name": "Python 3"
    },
    "language_info": {
      "name": "python"
    }
  },
  "cells": [
    {
      "cell_type": "markdown",
      "metadata": {
        "id": "view-in-github",
        "colab_type": "text"
      },
      "source": [
        "<a href=\"https://colab.research.google.com/github/swathi-1809/Data-Visualization-Project/blob/main/Geospatial_data_analysis.ipynb\" target=\"_parent\"><img src=\"https://colab.research.google.com/assets/colab-badge.svg\" alt=\"Open In Colab\"/></a>"
      ]
    },
    {
      "cell_type": "markdown",
      "source": [
        "                    ** DISTRIBUTION OF ESSENTIAL AMENITIES**"
      ],
      "metadata": {
        "id": "EAA7T9iF0TGb"
      }
    },
    {
      "cell_type": "markdown",
      "source": [
        "*Importing geopandas library as gpd*"
      ],
      "metadata": {
        "id": "T50EWM4BE7nb"
      }
    },
    {
      "cell_type": "code",
      "execution_count": null,
      "metadata": {
        "id": "gPkJHnBEz0Wj"
      },
      "outputs": [],
      "source": [
        "import geopandas as gpd"
      ]
    },
    {
      "cell_type": "markdown",
      "source": [
        "This line of code is part of a Python script and involves the use of the geopandas library. Here's a breakdown:\n",
        "\n",
        "gpd: This is an alias commonly used for the geopandas library. geopandas extends the functionality of the popular pandas library to handle geospatial data.\n",
        "\n",
        "gpd.read_file('/content/export (1).geojson'): This function call reads a GeoJSON file and creates a GeoDataFrame. A GeoDataFrame is a tabular data structure provided by geopandas that has built-in support for handling geometry (geospatial) information.\n",
        "\n",
        "'/content/export (1).geojson': This is the file path to the GeoJSON file being read. The GeoJSON file likely contains geospatial data, such as points, lines, or polygons, along with associated attribute data.\n",
        "\n",
        "hospital: This line assigns the GeoDataFrame created from the GeoJSON file to a variable named hospital. You can then use this variable to interact with and analyze the geospatial data in Python."
      ],
      "metadata": {
        "id": "9i0eHhqKBf4L"
      }
    },
    {
      "cell_type": "markdown",
      "source": [
        "*The hospital dataset of Los Angeles is loaded in the object hospital and reading the data*"
      ],
      "metadata": {
        "id": "tVWI5Uluxu23"
      }
    },
    {
      "cell_type": "code",
      "source": [
        "hospital=gpd.read_file('/content/export (1).geojson')"
      ],
      "metadata": {
        "id": "ZWUoLrDI0CBW"
      },
      "execution_count": null,
      "outputs": []
    },
    {
      "cell_type": "code",
      "source": [
        "hospital"
      ],
      "metadata": {
        "id": "5O5JZD0FId9S"
      },
      "execution_count": null,
      "outputs": []
    },
    {
      "cell_type": "markdown",
      "source": [
        "School dataset of Los Angeles is loaded in the objecct school and reading the values"
      ],
      "metadata": {
        "id": "_iQysT5WyC66"
      }
    },
    {
      "cell_type": "markdown",
      "source": [
        "is reading geospatial data from a GeoJSON file located at '/content/export (3).geojson' and creating a GeoDataFrame named 'school'. A GeoDataFrame is a data structure that allows for the manipulation and analysis of geospatial data, combining both attribute information and geometric shapes."
      ],
      "metadata": {
        "id": "rzMHblz9BqEK"
      }
    },
    {
      "cell_type": "code",
      "source": [
        "school=gpd.read_file('/content/export (3).geojson')"
      ],
      "metadata": {
        "id": "XOESdqNg0MQj"
      },
      "execution_count": null,
      "outputs": []
    },
    {
      "cell_type": "code",
      "source": [
        "school"
      ],
      "metadata": {
        "id": "QJB7stWgx_s2"
      },
      "execution_count": null,
      "outputs": []
    },
    {
      "cell_type": "markdown",
      "source": [
        "Install Folium: The first line (!pip install folium) installs the folium library, which is used for creating interactive maps.\n",
        "\n",
        "Import Libraries: The script then imports necessary libraries, including folium, json, and likely other dependencies.\n",
        "\n",
        "Create Map Object: The line la_map = folium.Map(location=[34.0522, -118.2437], zoom_start=12) creates a folium map centered on Los Angeles (latitude 34.0522, longitude -118.2437) with an initial zoom level of 12.\n",
        "\n",
        "Add GeoJSON Layer: The line folium.GeoJson(hospital_geojson, name=\"hospital\").add_to(la_map) adds a GeoJSON layer to the map. The hospital_geojson likely contains the geometries and properties of hospitals in GeoJSON format. The name \"hospital\" is assigned to this layer.\n",
        "\n",
        "Layer Control: The line folium.LayerControl().add_to(la_map) adds a layer control to the map. This control allows users to toggle the visibility of different map layers, in this case, the hospital layer.\n",
        "\n",
        "Display Map: Finally, la_map is displayed, showing an interactive map of Los Angeles with a hospital layer that users can toggle on and off using the layer control."
      ],
      "metadata": {
        "id": "HsF1rQmEz9t-"
      }
    },
    {
      "cell_type": "code",
      "source": [
        "!pip install folium\n",
        "\n",
        "import folium\n",
        "import json\n",
        "la_map = folium.Map(location=[34.0522, -118.2437], zoom_start=12)\n",
        "folium.GeoJson(hospital_geojson, name=\"hospital\").add_to(la_map)\n",
        "folium.LayerControl().add_to(la_map)\n",
        "la_map\n"
      ],
      "metadata": {
        "colab": {
          "base_uri": "https://localhost:8080/",
          "height": 892
        },
        "id": "fhht58dc4H2k",
        "outputId": "e92451f5-e142-40a8-d2b2-852607000a51"
      },
      "execution_count": null,
      "outputs": [
        {
          "output_type": "stream",
          "name": "stdout",
          "text": [
            "Requirement already satisfied: folium in /usr/local/lib/python3.10/dist-packages (0.14.0)\n",
            "Requirement already satisfied: branca>=0.6.0 in /usr/local/lib/python3.10/dist-packages (from folium) (0.7.0)\n",
            "Requirement already satisfied: jinja2>=2.9 in /usr/local/lib/python3.10/dist-packages (from folium) (3.1.2)\n",
            "Requirement already satisfied: numpy in /usr/local/lib/python3.10/dist-packages (from folium) (1.23.5)\n",
            "Requirement already satisfied: requests in /usr/local/lib/python3.10/dist-packages (from folium) (2.31.0)\n",
            "Requirement already satisfied: MarkupSafe>=2.0 in /usr/local/lib/python3.10/dist-packages (from jinja2>=2.9->folium) (2.1.3)\n",
            "Requirement already satisfied: charset-normalizer<4,>=2 in /usr/local/lib/python3.10/dist-packages (from requests->folium) (3.3.2)\n",
            "Requirement already satisfied: idna<4,>=2.5 in /usr/local/lib/python3.10/dist-packages (from requests->folium) (3.4)\n",
            "Requirement already satisfied: urllib3<3,>=1.21.1 in /usr/local/lib/python3.10/dist-packages (from requests->folium) (2.0.7)\n",
            "Requirement already satisfied: certifi>=2017.4.17 in /usr/local/lib/python3.10/dist-packages (from requests->folium) (2023.7.22)\n"
          ]
        },
        {
          "output_type": "execute_result",
          "data": {
            "text/plain": [
              "<folium.folium.Map at 0x7a3d9f242da0>"
            ],
            "text/html": [
              "<div style=\"width:100%;\"><div style=\"position:relative;width:100%;height:0;padding-bottom:60%;\"><span style=\"color:#565656\">Make this Notebook Trusted to load map: File -> Trust Notebook</span><iframe srcdoc=\"&lt;!DOCTYPE html&gt;\n",
              "&lt;html&gt;\n",
              "&lt;head&gt;\n",
              "    \n",
              "    &lt;meta http-equiv=&quot;content-type&quot; content=&quot;text/html; charset=UTF-8&quot; /&gt;\n",
              "    \n",
              "        &lt;script&gt;\n",
              "            L_NO_TOUCH = false;\n",
              "            L_DISABLE_3D = false;\n",
              "        &lt;/script&gt;\n",
              "    \n",
              "    &lt;style&gt;html, body {width: 100%;height: 100%;margin: 0;padding: 0;}&lt;/style&gt;\n",
              "    &lt;style&gt;#map {position:absolute;top:0;bottom:0;right:0;left:0;}&lt;/style&gt;\n",
              "    &lt;script src=&quot;https://cdn.jsdelivr.net/npm/leaflet@1.9.3/dist/leaflet.js&quot;&gt;&lt;/script&gt;\n",
              "    &lt;script src=&quot;https://code.jquery.com/jquery-1.12.4.min.js&quot;&gt;&lt;/script&gt;\n",
              "    &lt;script src=&quot;https://cdn.jsdelivr.net/npm/bootstrap@5.2.2/dist/js/bootstrap.bundle.min.js&quot;&gt;&lt;/script&gt;\n",
              "    &lt;script src=&quot;https://cdnjs.cloudflare.com/ajax/libs/Leaflet.awesome-markers/2.0.2/leaflet.awesome-markers.js&quot;&gt;&lt;/script&gt;\n",
              "    &lt;link rel=&quot;stylesheet&quot; href=&quot;https://cdn.jsdelivr.net/npm/leaflet@1.9.3/dist/leaflet.css&quot;/&gt;\n",
              "    &lt;link rel=&quot;stylesheet&quot; href=&quot;https://cdn.jsdelivr.net/npm/bootstrap@5.2.2/dist/css/bootstrap.min.css&quot;/&gt;\n",
              "    &lt;link rel=&quot;stylesheet&quot; href=&quot;https://netdna.bootstrapcdn.com/bootstrap/3.0.0/css/bootstrap.min.css&quot;/&gt;\n",
              "    &lt;link rel=&quot;stylesheet&quot; href=&quot;https://cdn.jsdelivr.net/npm/@fortawesome/fontawesome-free@6.2.0/css/all.min.css&quot;/&gt;\n",
              "    &lt;link rel=&quot;stylesheet&quot; href=&quot;https://cdnjs.cloudflare.com/ajax/libs/Leaflet.awesome-markers/2.0.2/leaflet.awesome-markers.css&quot;/&gt;\n",
              "    &lt;link rel=&quot;stylesheet&quot; href=&quot;https://cdn.jsdelivr.net/gh/python-visualization/folium/folium/templates/leaflet.awesome.rotate.min.css&quot;/&gt;\n",
              "    \n",
              "            &lt;meta name=&quot;viewport&quot; content=&quot;width=device-width,\n",
              "                initial-scale=1.0, maximum-scale=1.0, user-scalable=no&quot; /&gt;\n",
              "            &lt;style&gt;\n",
              "                #map_4678164418dad980e7e47e6a4099269f {\n",
              "                    position: relative;\n",
              "                    width: 100.0%;\n",
              "                    height: 100.0%;\n",
              "                    left: 0.0%;\n",
              "                    top: 0.0%;\n",
              "                }\n",
              "                .leaflet-container { font-size: 1rem; }\n",
              "            &lt;/style&gt;\n",
              "        \n",
              "&lt;/head&gt;\n",
              "&lt;body&gt;\n",
              "    \n",
              "    \n",
              "            &lt;div class=&quot;folium-map&quot; id=&quot;map_4678164418dad980e7e47e6a4099269f&quot; &gt;&lt;/div&gt;\n",
              "        \n",
              "&lt;/body&gt;\n",
              "&lt;script&gt;\n",
              "    \n",
              "    \n",
              "            var map_4678164418dad980e7e47e6a4099269f = L.map(\n",
              "                &quot;map_4678164418dad980e7e47e6a4099269f&quot;,\n",
              "                {\n",
              "                    center: [34.0522, -118.2437],\n",
              "                    crs: L.CRS.EPSG3857,\n",
              "                    zoom: 12,\n",
              "                    zoomControl: true,\n",
              "                    preferCanvas: false,\n",
              "                }\n",
              "            );\n",
              "\n",
              "            \n",
              "\n",
              "        \n",
              "    \n",
              "            var tile_layer_67bda11dbc02f73a4f0977a750829798 = L.tileLayer(\n",
              "                &quot;https://{s}.tile.openstreetmap.org/{z}/{x}/{y}.png&quot;,\n",
              "                {&quot;attribution&quot;: &quot;Data by \\u0026copy; \\u003ca target=\\&quot;_blank\\&quot; href=\\&quot;http://openstreetmap.org\\&quot;\\u003eOpenStreetMap\\u003c/a\\u003e, under \\u003ca target=\\&quot;_blank\\&quot; href=\\&quot;http://www.openstreetmap.org/copyright\\&quot;\\u003eODbL\\u003c/a\\u003e.&quot;, &quot;detectRetina&quot;: false, &quot;maxNativeZoom&quot;: 18, &quot;maxZoom&quot;: 18, &quot;minZoom&quot;: 0, &quot;noWrap&quot;: false, &quot;opacity&quot;: 1, &quot;subdomains&quot;: &quot;abc&quot;, &quot;tms&quot;: false}\n",
              "            ).addTo(map_4678164418dad980e7e47e6a4099269f);\n",
              "        \n",
              "    \n",
              "\n",
              "        function geo_json_773ddc150a0d0993676c1a9567defbf3_onEachFeature(feature, layer) {\n",
              "            layer.on({\n",
              "            });\n",
              "        };\n",
              "        var geo_json_773ddc150a0d0993676c1a9567defbf3 = L.geoJson(null, {\n",
              "                onEachFeature: geo_json_773ddc150a0d0993676c1a9567defbf3_onEachFeature,\n",
              "            \n",
              "        });\n",
              "\n",
              "        function geo_json_773ddc150a0d0993676c1a9567defbf3_add (data) {\n",
              "            geo_json_773ddc150a0d0993676c1a9567defbf3\n",
              "                .addData(data)\n",
              "                .addTo(map_4678164418dad980e7e47e6a4099269f);\n",
              "        }\n",
              "            geo_json_773ddc150a0d0993676c1a9567defbf3_add({&quot;copyright&quot;: &quot;The data included in this document is from www.openstreetmap.org. The data is made available under ODbL.&quot;, &quot;features&quot;: [{&quot;geometry&quot;: {&quot;coordinates&quot;: [-118.3365343, 34.274213], &quot;type&quot;: &quot;Point&quot;}, &quot;id&quot;: &quot;node/358808225&quot;, &quot;properties&quot;: {&quot;@id&quot;: &quot;node/358808225&quot;, &quot;amenity&quot;: &quot;hospital&quot;, &quot;ele&quot;: &quot;379&quot;, &quot;emergency&quot;: &quot;no&quot;, &quot;gnis:county_id&quot;: &quot;037&quot;, &quot;gnis:created&quot;: &quot;01/19/1981&quot;, &quot;gnis:feature_id&quot;: &quot;1660882&quot;, &quot;gnis:state_id&quot;: &quot;06&quot;, &quot;name&quot;: &quot;Lakeview Terrace Sanitarium&quot;}, &quot;type&quot;: &quot;Feature&quot;}, {&quot;geometry&quot;: {&quot;coordinates&quot;: [-118.4471116, 34.0663274], &quot;type&quot;: &quot;Point&quot;}, &quot;id&quot;: &quot;node/1894122907&quot;, &quot;properties&quot;: {&quot;@id&quot;: &quot;node/1894122907&quot;, &quot;addr:city&quot;: &quot;Los Angeles&quot;, &quot;addr:housenumber&quot;: &quot;757&quot;, &quot;addr:postcode&quot;: &quot;90095&quot;, &quot;addr:street&quot;: &quot;Westwood Plaza&quot;, &quot;amenity&quot;: &quot;hospital&quot;, &quot;emergency&quot;: &quot;no&quot;, &quot;healthcare&quot;: &quot;hospital&quot;, &quot;healthcare:speciality&quot;: &quot;paediatrics&quot;, &quot;name&quot;: &quot;Mattel Children\\u0027s Hospital&quot;, &quot;phone&quot;: &quot;+1 310 825 9111&quot;, &quot;website&quot;: &quot;https://www.uclahealth.org/mattel/&quot;, &quot;wikidata&quot;: &quot;Q30280929&quot;}, &quot;type&quot;: &quot;Feature&quot;}, {&quot;geometry&quot;: {&quot;coordinates&quot;: [-118.4465012, 34.0661034], &quot;type&quot;: &quot;Point&quot;}, &quot;id&quot;: &quot;node/1894122910&quot;, &quot;properties&quot;: {&quot;@id&quot;: &quot;node/1894122910&quot;, &quot;addr:housenumber&quot;: &quot;150&quot;, &quot;addr:postcode&quot;: &quot;90024&quot;, &quot;addr:street&quot;: &quot;UCLA Medical Plaza&quot;, &quot;amenity&quot;: &quot;hospital&quot;, &quot;emergency&quot;: &quot;no&quot;, &quot;healthcare&quot;: &quot;hospital&quot;, &quot;name&quot;: &quot;Resnick Neuropsychiatric Hospital&quot;, &quot;website&quot;: &quot;https://www.uclahealth.org/homepage_neuro.cfm&quot;}, &quot;type&quot;: &quot;Feature&quot;}, {&quot;geometry&quot;: {&quot;coordinates&quot;: [-118.561841, 34.2751983], &quot;type&quot;: &quot;Point&quot;}, &quot;id&quot;: &quot;node/2351670047&quot;, &quot;properties&quot;: {&quot;@id&quot;: &quot;node/2351670047&quot;, &quot;amenity&quot;: &quot;hospital&quot;, &quot;designation&quot;: &quot;Medical Clinics&quot;, &quot;emergency&quot;: &quot;no&quot;, &quot;healthcare&quot;: &quot;hospital&quot;, &quot;name&quot;: &quot;Nu Vela Esthetica&quot;}, &quot;type&quot;: &quot;Feature&quot;}, {&quot;geometry&quot;: {&quot;coordinates&quot;: [-118.4442777, 34.065767], &quot;type&quot;: &quot;Point&quot;}, &quot;id&quot;: &quot;node/2392101217&quot;, &quot;properties&quot;: {&quot;@id&quot;: &quot;node/2392101217&quot;, &quot;addr:city&quot;: &quot;Los Angeles&quot;, &quot;addr:housenumber&quot;: &quot;760&quot;, &quot;addr:postcode&quot;: &quot;90095&quot;, &quot;addr:street&quot;: &quot;Westwood Plaza&quot;, &quot;alt_name&quot;: &quot;NRRU&quot;, &quot;amenity&quot;: &quot;hospital&quot;, &quot;emergency&quot;: &quot;no&quot;, &quot;healthcare&quot;: &quot;hospital&quot;, &quot;name&quot;: &quot;Neurological Rehabilitation \\u0026 Research Unit&quot;, &quot;phone&quot;: &quot;+1 310 794 6556&quot;, &quot;website&quot;: &quot;http://rehab.ucla.edu/body.cfm?id=29&quot;}, &quot;type&quot;: &quot;Feature&quot;}, {&quot;geometry&quot;: {&quot;coordinates&quot;: [-118.2661911, 34.0073173], &quot;type&quot;: &quot;Point&quot;}, &quot;id&quot;: &quot;node/2556689683&quot;, &quot;properties&quot;: {&quot;@id&quot;: &quot;node/2556689683&quot;, &quot;addr:city&quot;: &quot;Los Angeles&quot;, &quot;addr:housenumber&quot;: &quot;4211&quot;, &quot;addr:postcode&quot;: &quot;90011&quot;, &quot;addr:street&quot;: &quot;South Avalon Boulevard&quot;, &quot;amenity&quot;: &quot;hospital&quot;, &quot;emergency&quot;: &quot;no&quot;, &quot;healthcare&quot;: &quot;hospital&quot;, &quot;healthcare:speciality&quot;: &quot;psychiatry&quot;, &quot;name&quot;: &quot;Kedren Community Health Center&quot;, &quot;phone&quot;: &quot;+1 323 233 0425&quot;, &quot;website&quot;: &quot;http://kedren.org/&quot;}, &quot;type&quot;: &quot;Feature&quot;}, {&quot;geometry&quot;: {&quot;coordinates&quot;: [-54.6283683, -20.5492933], &quot;type&quot;: &quot;Point&quot;}, &quot;id&quot;: &quot;node/4585846997&quot;, &quot;properties&quot;: {&quot;@id&quot;: &quot;node/4585846997&quot;, &quot;addr:street&quot;: &quot;Rua Francisco Chaves&quot;, &quot;amenity&quot;: &quot;hospital&quot;, &quot;name&quot;: &quot;UBSF Sebasti\\u00e3o Luiz Nogueira - Jardim Los Angeles&quot;, &quot;name:pt&quot;: &quot;UBSF Sebasti\\u00e3o Luiz Nogueira - Jardim Los Angeles&quot;}, &quot;type&quot;: &quot;Feature&quot;}, {&quot;geometry&quot;: {&quot;coordinates&quot;: [-118.5895399, 34.1707705], &quot;type&quot;: &quot;Point&quot;}, &quot;id&quot;: &quot;node/6322407377&quot;, &quot;properties&quot;: {&quot;@id&quot;: &quot;node/6322407377&quot;, &quot;amenity&quot;: &quot;hospital&quot;, &quot;entrance&quot;: &quot;emergency&quot;, &quot;healthcare&quot;: &quot;hospital&quot;}, &quot;type&quot;: &quot;Feature&quot;}, {&quot;geometry&quot;: {&quot;coordinates&quot;: [-118.4682968, 34.0723695], &quot;type&quot;: &quot;Point&quot;}, &quot;id&quot;: &quot;node/8831156390&quot;, &quot;properties&quot;: {&quot;@id&quot;: &quot;node/8831156390&quot;, &quot;addr:city&quot;: &quot;Los Angeles&quot;, &quot;addr:housenumber&quot;: &quot;11461&quot;, &quot;addr:postcode&quot;: &quot;90049&quot;, &quot;addr:state&quot;: &quot;CA&quot;, &quot;addr:street&quot;: &quot;Sunset Boulevard&quot;, &quot;amenity&quot;: &quot;hospital&quot;, &quot;description&quot;: &quot;CLIA Approved COVID Testing with PCR in 30 Mins&quot;, &quot;email&quot;: &quot;info@911covidtesting.com&quot;, &quot;healthcare&quot;: &quot;hospital&quot;, &quot;healthcare:speciality&quot;: &quot;covid19&quot;, &quot;image&quot;: &quot;https://911covidtesting.com/&quot;, &quot;name&quot;: &quot;Covid Testing (PCR 30 mins)&quot;, &quot;operator&quot;: &quot;911 Covid Testing, Inc.&quot;, &quot;operator:type&quot;: &quot;public&quot;, &quot;phone&quot;: &quot;310-569-5784&quot;, &quot;website&quot;: &quot;https://911covidtesting.com/&quot;, &quot;wheelchair&quot;: &quot;yes&quot;}, &quot;type&quot;: &quot;Feature&quot;}, {&quot;geometry&quot;: {&quot;coordinates&quot;: [-118.4117451, 34.0591305], &quot;type&quot;: &quot;Point&quot;}, &quot;id&quot;: &quot;node/9008836961&quot;, &quot;properties&quot;: {&quot;@id&quot;: &quot;node/9008836961&quot;, &quot;amenity&quot;: &quot;hospital&quot;, &quot;healthcare&quot;: &quot;hospital&quot;, &quot;name&quot;: &quot;California Rehabilitation Institute&quot;}, &quot;type&quot;: &quot;Feature&quot;}, {&quot;geometry&quot;: {&quot;coordinates&quot;: [-118.2485451, 34.0421489], &quot;type&quot;: &quot;Point&quot;}, &quot;id&quot;: &quot;node/9211554934&quot;, &quot;properties&quot;: {&quot;@id&quot;: &quot;node/9211554934&quot;, &quot;addr:city&quot;: &quot;Los Angeles&quot;, &quot;addr:housenumber&quot;: &quot;325&quot;, &quot;addr:postcode&quot;: &quot;90014&quot;, &quot;addr:state&quot;: &quot;CA&quot;, &quot;addr:street&quot;: &quot;East 7th Street&quot;, &quot;amenity&quot;: &quot;hospital&quot;, &quot;emergency&quot;: &quot;no&quot;, &quot;healthcare&quot;: &quot;hospital&quot;, &quot;healthcare:speciality&quot;: &quot;dentist;psychiatry;optometry;social_serv;medical&quot;, &quot;name&quot;: &quot;Joshua House Health Center&quot;, &quot;operator&quot;: &quot;Los Angeles Christian Health Center&quot;, &quot;operator:type&quot;: &quot;community&quot;, &quot;phone&quot;: &quot;1(213)893-1960&quot;}, &quot;type&quot;: &quot;Feature&quot;}, {&quot;geometry&quot;: {&quot;coordinates&quot;: [-118.273426, 33.9886634], &quot;type&quot;: &quot;Point&quot;}, &quot;id&quot;: &quot;node/9438017617&quot;, &quot;properties&quot;: {&quot;@id&quot;: &quot;node/9438017617&quot;, &quot;addr:housenumber&quot;: &quot;5850 S Main St&quot;, &quot;addr:postcode&quot;: &quot;90003&quot;, &quot;amenity&quot;: &quot;hospital&quot;, &quot;healthcare&quot;: &quot;hospital&quot;, &quot;internet_access&quot;: &quot;wlan&quot;, &quot;name&quot;: &quot;Hubert H. Humphrey Comprehensive Health Center&quot;, &quot;website&quot;: &quot;https://dhs.lacounty.gov/humphrey/&quot;}, &quot;type&quot;: &quot;Feature&quot;}, {&quot;geometry&quot;: {&quot;coordinates&quot;: [-118.4444286, 34.3274884], &quot;type&quot;: &quot;Point&quot;}, &quot;id&quot;: &quot;node/10597504460&quot;, &quot;properties&quot;: {&quot;@id&quot;: &quot;node/10597504460&quot;, &quot;addr:city&quot;: &quot;Sylmar&quot;, &quot;addr:housenumber&quot;: &quot;14149&quot;, &quot;addr:postcode&quot;: &quot;91342&quot;, &quot;addr:state&quot;: &quot;CA&quot;, &quot;addr:street&quot;: &quot;Bucher Avenue&quot;, &quot;addr:unit&quot;: &quot;D&quot;, &quot;amenity&quot;: &quot;hospital&quot;, &quot;emergency&quot;: &quot;no&quot;, &quot;healthcare&quot;: &quot;hospital&quot;, &quot;healthcare:speciality&quot;: &quot;mental_health&quot;, &quot;name&quot;: &quot;Olive House Crisis Residential&quot;, &quot;operator&quot;: &quot;Telecare corporation&quot;, &quot;operator:type&quot;: &quot;community&quot;}, &quot;type&quot;: &quot;Feature&quot;}, {&quot;geometry&quot;: {&quot;coordinates&quot;: [-118.4442932, 34.3279907], &quot;type&quot;: &quot;Point&quot;}, &quot;id&quot;: &quot;node/10597504461&quot;, &quot;properties&quot;: {&quot;@id&quot;: &quot;node/10597504461&quot;, &quot;addr:city&quot;: &quot;Sylmar&quot;, &quot;addr:housenumber&quot;: &quot;14129&quot;, &quot;addr:postcode&quot;: &quot;91342&quot;, &quot;addr:state&quot;: &quot;CA&quot;, &quot;addr:street&quot;: &quot;Bucher Avenue&quot;, &quot;addr:unit&quot;: &quot;B&quot;, &quot;amenity&quot;: &quot;hospital&quot;, &quot;healthcare&quot;: &quot;hospital&quot;, &quot;healthcare:speciality&quot;: &quot;mental_health&quot;, &quot;name&quot;: &quot;STARS Crisis Residential&quot;, &quot;operator&quot;: &quot;STARS Behavioral&quot;, &quot;operator:type&quot;: &quot;business&quot;}, &quot;type&quot;: &quot;Feature&quot;}, {&quot;geometry&quot;: {&quot;coordinates&quot;: [-118.4474908, 34.1769007], &quot;type&quot;: &quot;Point&quot;}, &quot;id&quot;: &quot;node/10866397638&quot;, &quot;properties&quot;: {&quot;@id&quot;: &quot;node/10866397638&quot;, &quot;addr:city&quot;: &quot;Van Nuys&quot;, &quot;addr:housenumber&quot;: &quot;14433&quot;, &quot;addr:postcode&quot;: &quot;91401-4213&quot;, &quot;addr:street&quot;: &quot;Emelita Street&quot;, &quot;amenity&quot;: &quot;hospital&quot;, &quot;beds&quot;: &quot;59&quot;, &quot;healthcare&quot;: &quot;hospital&quot;, &quot;healthcare:speciality&quot;: &quot;psychiatry&quot;, &quot;name&quot;: &quot;Van Nuys Behavioral Health Hospital&quot;, &quot;phone&quot;: &quot;+1 818 787 1511&quot;, &quot;website&quot;: &quot;https://www.sch-vannuys.com&quot;}, &quot;type&quot;: &quot;Feature&quot;}, {&quot;geometry&quot;: {&quot;coordinates&quot;: [-118.2434019, 34.0668973], &quot;type&quot;: &quot;Point&quot;}, &quot;id&quot;: &quot;node/10866447068&quot;, &quot;properties&quot;: {&quot;@id&quot;: &quot;node/10866447068&quot;, &quot;addr:city&quot;: &quot;Los Angeles&quot;, &quot;addr:housenumber&quot;: &quot;765&quot;, &quot;addr:postcode&quot;: &quot;90012-1181&quot;, &quot;addr:street&quot;: &quot;West College Street&quot;, &quot;amenity&quot;: &quot;hospital&quot;, &quot;beds&quot;: &quot;68&quot;, &quot;healthcare&quot;: &quot;hospital&quot;, &quot;healthcare:speciality&quot;: &quot;psychiatry&quot;, &quot;name&quot;: &quot;Kaiser Foundation Hospital Mental Health Center&quot;, &quot;phone&quot;: &quot;+1 213 580 7200&quot;, &quot;website&quot;: &quot;https://healthy.kaiserpermanente.org/southern-california/facilities/mental-health-center-100121&quot;}, &quot;type&quot;: &quot;Feature&quot;}, {&quot;geometry&quot;: {&quot;coordinates&quot;: [-118.5398562, 34.1794458], &quot;type&quot;: &quot;Point&quot;}, &quot;id&quot;: &quot;node/10866448572&quot;, &quot;properties&quot;: {&quot;@id&quot;: &quot;node/10866448572&quot;, &quot;addr:city&quot;: &quot;Tarzana&quot;, &quot;addr:housenumber&quot;: &quot;18646&quot;, &quot;addr:postcode&quot;: &quot;91356-1411&quot;, &quot;addr:street&quot;: &quot;Oxnard Street&quot;, &quot;amenity&quot;: &quot;hospital&quot;, &quot;beds&quot;: &quot;60&quot;, &quot;healthcare&quot;: &quot;hospital&quot;, &quot;healthcare:speciality&quot;: &quot;psychiatry&quot;, &quot;name&quot;: &quot;Tarzana Treatment Center&quot;, &quot;phone&quot;: &quot;+1 818 654 3815&quot;, &quot;website&quot;: &quot;https://www.tarzanatc.org/location-detail/tarzana/18646-oxnard-street&quot;}, &quot;type&quot;: &quot;Feature&quot;}, {&quot;geometry&quot;: {&quot;coordinates&quot;: [-118.6366359, 34.1579783], &quot;type&quot;: &quot;Point&quot;}, &quot;id&quot;: &quot;node/10866465076&quot;, &quot;properties&quot;: {&quot;@id&quot;: &quot;node/10866465076&quot;, &quot;addr:city&quot;: &quot;Woodland Hills&quot;, &quot;addr:housenumber&quot;: &quot;23388&quot;, &quot;addr:postcode&quot;: &quot;91364-2733&quot;, &quot;addr:street&quot;: &quot;Mulholland Drive&quot;, &quot;amenity&quot;: &quot;hospital&quot;, &quot;beds&quot;: &quot;12&quot;, &quot;healthcare&quot;: &quot;hospital&quot;, &quot;healthcare:speciality&quot;: &quot;psychiatry&quot;, &quot;name&quot;: &quot;Motion Picture And Television Hospital&quot;, &quot;phone&quot;: &quot;+1 818 876 1043&quot;, &quot;website&quot;: &quot;https://mptf.com&quot;}, &quot;type&quot;: &quot;Feature&quot;}], &quot;generator&quot;: &quot;overpass-turbo&quot;, &quot;timestamp&quot;: &quot;2023-11-08T04:54:01Z&quot;, &quot;type&quot;: &quot;FeatureCollection&quot;});\n",
              "\n",
              "        \n",
              "    \n",
              "            var layer_control_77d3a58c18f97b10431d9fbb938da82a = {\n",
              "                base_layers : {\n",
              "                    &quot;openstreetmap&quot; : tile_layer_67bda11dbc02f73a4f0977a750829798,\n",
              "                },\n",
              "                overlays :  {\n",
              "                    &quot;hospital&quot; : geo_json_773ddc150a0d0993676c1a9567defbf3,\n",
              "                },\n",
              "            };\n",
              "            L.control.layers(\n",
              "                layer_control_77d3a58c18f97b10431d9fbb938da82a.base_layers,\n",
              "                layer_control_77d3a58c18f97b10431d9fbb938da82a.overlays,\n",
              "                {&quot;autoZIndex&quot;: true, &quot;collapsed&quot;: true, &quot;position&quot;: &quot;topright&quot;}\n",
              "            ).addTo(map_4678164418dad980e7e47e6a4099269f);\n",
              "        \n",
              "&lt;/script&gt;\n",
              "&lt;/html&gt;\" style=\"position:absolute;width:100%;height:100%;left:0;top:0;border:none !important;\" allowfullscreen webkitallowfullscreen mozallowfullscreen></iframe></div></div>"
            ]
          },
          "metadata": {},
          "execution_count": 8
        }
      ]
    },
    {
      "cell_type": "markdown",
      "source": [
        "Install Folium: The first line (!pip install folium) installs the folium library, which is used for creating interactive maps.\n",
        "\n",
        "Import Libraries: The script then imports necessary libraries, including folium and json. The folium library is used for creating the map, and json may be used for handling GeoJSON data.\n",
        "\n",
        "Load GeoJSON Data: The variable school_geojson contains the file path or URL to a GeoJSON file (/content/export (3).geojson). GeoJSON is a format for encoding a variety of geographic data structures.\n",
        "\n",
        "Create Map Object: The line la_map = folium.Map(location=[34.0522, -118.2437], zoom_start=12) creates a folium map centered on Los Angeles (latitude 34.0522, longitude -118.2437) with an initial zoom level of 12.\n",
        "\n",
        "Add GeoJSON Layer: The line folium.GeoJson(school_geojson, name=\"Grocery Shops\").add_to(la_map) adds a GeoJSON layer to the map. The name \"Grocery Shops\" is assigned to this layer. The GeoJSON file likely contains the geometries and properties of grocery shops.\n",
        "\n",
        "Layer Control: The line folium.LayerControl().add_to(la_map) adds a layer control to the map. This control allows users to toggle the visibility of different map layers, in this case, the \"Grocery Shops\" layer.\n",
        "\n",
        "Display Map: Finally, la_map is displayed, showing an interactive map of Los Angeles with a layer representing grocery shops that users can toggle on and off using the layer control."
      ],
      "metadata": {
        "id": "K22fZopeCgDC"
      }
    },
    {
      "cell_type": "code",
      "source": [
        "!pip install folium\n",
        "\n",
        "import folium\n",
        "import json\n",
        "school_geojson = \"/content/export (3).geojson\"\n",
        "la_map = folium.Map(location=[34.0522, -118.2437], zoom_start=12)\n",
        "folium.GeoJson(school_geojson, name=\"Grocery Shops\").add_to(la_map)\n",
        "folium.LayerControl().add_to(la_map)\n",
        "la_map\n"
      ],
      "metadata": {
        "colab": {
          "base_uri": "https://localhost:8080/",
          "height": 732
        },
        "id": "KVyu5EJp5wts",
        "outputId": "9d8c3d51-42e1-476f-b0fc-de1f6c4e8bdc"
      },
      "execution_count": null,
      "outputs": [
        {
          "output_type": "stream",
          "name": "stdout",
          "text": [
            "Requirement already satisfied: folium in /usr/local/lib/python3.10/dist-packages (0.14.0)\n",
            "Requirement already satisfied: branca>=0.6.0 in /usr/local/lib/python3.10/dist-packages (from folium) (0.7.0)\n",
            "Requirement already satisfied: jinja2>=2.9 in /usr/local/lib/python3.10/dist-packages (from folium) (3.1.2)\n",
            "Requirement already satisfied: numpy in /usr/local/lib/python3.10/dist-packages (from folium) (1.23.5)\n",
            "Requirement already satisfied: requests in /usr/local/lib/python3.10/dist-packages (from folium) (2.31.0)\n",
            "Requirement already satisfied: MarkupSafe>=2.0 in /usr/local/lib/python3.10/dist-packages (from jinja2>=2.9->folium) (2.1.3)\n",
            "Requirement already satisfied: charset-normalizer<4,>=2 in /usr/local/lib/python3.10/dist-packages (from requests->folium) (3.3.2)\n",
            "Requirement already satisfied: idna<4,>=2.5 in /usr/local/lib/python3.10/dist-packages (from requests->folium) (3.4)\n",
            "Requirement already satisfied: urllib3<3,>=1.21.1 in /usr/local/lib/python3.10/dist-packages (from requests->folium) (2.0.7)\n",
            "Requirement already satisfied: certifi>=2017.4.17 in /usr/local/lib/python3.10/dist-packages (from requests->folium) (2023.7.22)\n"
          ]
        },
        {
          "output_type": "execute_result",
          "data": {
            "text/plain": [
              "<folium.folium.Map at 0x7aafccdd2080>"
            ],
            "text/html": [
              "<div style=\"width:100%;\"><div style=\"position:relative;width:100%;height:0;padding-bottom:60%;\"><span style=\"color:#565656\">Make this Notebook Trusted to load map: File -> Trust Notebook</span><iframe srcdoc=\"&lt;!DOCTYPE html&gt;\n",
              "&lt;html&gt;\n",
              "&lt;head&gt;\n",
              "    \n",
              "    &lt;meta http-equiv=&quot;content-type&quot; content=&quot;text/html; charset=UTF-8&quot; /&gt;\n",
              "    \n",
              "        &lt;script&gt;\n",
              "            L_NO_TOUCH = false;\n",
              "            L_DISABLE_3D = false;\n",
              "        &lt;/script&gt;\n",
              "    \n",
              "    &lt;style&gt;html, body {width: 100%;height: 100%;margin: 0;padding: 0;}&lt;/style&gt;\n",
              "    &lt;style&gt;#map {position:absolute;top:0;bottom:0;right:0;left:0;}&lt;/style&gt;\n",
              "    &lt;script src=&quot;https://cdn.jsdelivr.net/npm/leaflet@1.9.3/dist/leaflet.js&quot;&gt;&lt;/script&gt;\n",
              "    &lt;script src=&quot;https://code.jquery.com/jquery-1.12.4.min.js&quot;&gt;&lt;/script&gt;\n",
              "    &lt;script src=&quot;https://cdn.jsdelivr.net/npm/bootstrap@5.2.2/dist/js/bootstrap.bundle.min.js&quot;&gt;&lt;/script&gt;\n",
              "    &lt;script src=&quot;https://cdnjs.cloudflare.com/ajax/libs/Leaflet.awesome-markers/2.0.2/leaflet.awesome-markers.js&quot;&gt;&lt;/script&gt;\n",
              "    &lt;link rel=&quot;stylesheet&quot; href=&quot;https://cdn.jsdelivr.net/npm/leaflet@1.9.3/dist/leaflet.css&quot;/&gt;\n",
              "    &lt;link rel=&quot;stylesheet&quot; href=&quot;https://cdn.jsdelivr.net/npm/bootstrap@5.2.2/dist/css/bootstrap.min.css&quot;/&gt;\n",
              "    &lt;link rel=&quot;stylesheet&quot; href=&quot;https://netdna.bootstrapcdn.com/bootstrap/3.0.0/css/bootstrap.min.css&quot;/&gt;\n",
              "    &lt;link rel=&quot;stylesheet&quot; href=&quot;https://cdn.jsdelivr.net/npm/@fortawesome/fontawesome-free@6.2.0/css/all.min.css&quot;/&gt;\n",
              "    &lt;link rel=&quot;stylesheet&quot; href=&quot;https://cdnjs.cloudflare.com/ajax/libs/Leaflet.awesome-markers/2.0.2/leaflet.awesome-markers.css&quot;/&gt;\n",
              "    &lt;link rel=&quot;stylesheet&quot; href=&quot;https://cdn.jsdelivr.net/gh/python-visualization/folium/folium/templates/leaflet.awesome.rotate.min.css&quot;/&gt;\n",
              "    \n",
              "            &lt;meta name=&quot;viewport&quot; content=&quot;width=device-width,\n",
              "                initial-scale=1.0, maximum-scale=1.0, user-scalable=no&quot; /&gt;\n",
              "            &lt;style&gt;\n",
              "                #map_884bea7fd3c43fc5d3803be99b7bb965 {\n",
              "                    position: relative;\n",
              "                    width: 100.0%;\n",
              "                    height: 100.0%;\n",
              "                    left: 0.0%;\n",
              "                    top: 0.0%;\n",
              "                }\n",
              "                .leaflet-container { font-size: 1rem; }\n",
              "            &lt;/style&gt;\n",
              "        \n",
              "&lt;/head&gt;\n",
              "&lt;body&gt;\n",
              "    \n",
              "    \n",
              "            &lt;div class=&quot;folium-map&quot; id=&quot;map_884bea7fd3c43fc5d3803be99b7bb965&quot; &gt;&lt;/div&gt;\n",
              "        \n",
              "&lt;/body&gt;\n",
              "&lt;script&gt;\n",
              "    \n",
              "    \n",
              "            var map_884bea7fd3c43fc5d3803be99b7bb965 = L.map(\n",
              "                &quot;map_884bea7fd3c43fc5d3803be99b7bb965&quot;,\n",
              "                {\n",
              "                    center: [34.0522, -118.2437],\n",
              "                    crs: L.CRS.EPSG3857,\n",
              "                    zoom: 12,\n",
              "                    zoomControl: true,\n",
              "                    preferCanvas: false,\n",
              "                }\n",
              "            );\n",
              "\n",
              "            \n",
              "\n",
              "        \n",
              "    \n",
              "            var tile_layer_59bff3aa89ed7ea8fad838ac6fcd266e = L.tileLayer(\n",
              "                &quot;https://{s}.tile.openstreetmap.org/{z}/{x}/{y}.png&quot;,\n",
              "                {&quot;attribution&quot;: &quot;Data by \\u0026copy; \\u003ca target=\\&quot;_blank\\&quot; href=\\&quot;http://openstreetmap.org\\&quot;\\u003eOpenStreetMap\\u003c/a\\u003e, under \\u003ca target=\\&quot;_blank\\&quot; href=\\&quot;http://www.openstreetmap.org/copyright\\&quot;\\u003eODbL\\u003c/a\\u003e.&quot;, &quot;detectRetina&quot;: false, &quot;maxNativeZoom&quot;: 18, &quot;maxZoom&quot;: 18, &quot;minZoom&quot;: 0, &quot;noWrap&quot;: false, &quot;opacity&quot;: 1, &quot;subdomains&quot;: &quot;abc&quot;, &quot;tms&quot;: false}\n",
              "            ).addTo(map_884bea7fd3c43fc5d3803be99b7bb965);\n",
              "        \n",
              "    \n",
              "\n",
              "        function geo_json_9296724e9d6ff8139b2a17268c704142_onEachFeature(feature, layer) {\n",
              "            layer.on({\n",
              "            });\n",
              "        };\n",
              "        var geo_json_9296724e9d6ff8139b2a17268c704142 = L.geoJson(null, {\n",
              "                onEachFeature: geo_json_9296724e9d6ff8139b2a17268c704142_onEachFeature,\n",
              "            \n",
              "        });\n",
              "\n",
              "        function geo_json_9296724e9d6ff8139b2a17268c704142_add (data) {\n",
              "            geo_json_9296724e9d6ff8139b2a17268c704142\n",
              "                .addData(data)\n",
              "                .addTo(map_884bea7fd3c43fc5d3803be99b7bb965);\n",
              "        }\n",
              "            geo_json_9296724e9d6ff8139b2a17268c704142_add({&quot;copyright&quot;: &quot;The data included in this document is from www.openstreetmap.org. The data is made available under ODbL.&quot;, &quot;features&quot;: [{&quot;geometry&quot;: {&quot;coordinates&quot;: [-118.4222376, 33.9774922], &quot;type&quot;: &quot;Point&quot;}, &quot;id&quot;: &quot;relation/4439293&quot;, &quot;properties&quot;: {&quot;@geometry&quot;: &quot;center&quot;, &quot;@id&quot;: &quot;relation/4439293&quot;, &quot;addr:city&quot;: &quot;Los Angeles&quot;, &quot;addr:housenumber&quot;: &quot;5401&quot;, &quot;addr:postcode&quot;: &quot;90066&quot;, &quot;addr:state&quot;: &quot;CA&quot;, &quot;addr:street&quot;: &quot;Beethoven Street&quot;, &quot;amenity&quot;: &quot;school&quot;, &quot;name&quot;: &quot;Westside Neighborhood School&quot;, &quot;type&quot;: &quot;multipolygon&quot;, &quot;wikidata&quot;: &quot;Q7989703&quot;}, &quot;type&quot;: &quot;Feature&quot;}, {&quot;geometry&quot;: {&quot;coordinates&quot;: [-118.4552672, 34.1891628], &quot;type&quot;: &quot;Point&quot;}, &quot;id&quot;: &quot;relation/4465267&quot;, &quot;properties&quot;: {&quot;@geometry&quot;: &quot;center&quot;, &quot;@id&quot;: &quot;relation/4465267&quot;, &quot;addr:city&quot;: &quot;Van Nuys&quot;, &quot;addr:housenumber&quot;: &quot;6535&quot;, &quot;addr:postcode&quot;: &quot;91411&quot;, &quot;addr:street&quot;: &quot;Cedros Avenue&quot;, &quot;amenity&quot;: &quot;school&quot;, &quot;isced:level&quot;: &quot;3&quot;, &quot;name&quot;: &quot;Van Nuys High School&quot;, &quot;operator&quot;: &quot;Los Angeles Unified School District&quot;, &quot;operator:short&quot;: &quot;LAUSD&quot;, &quot;operator:type&quot;: &quot;public&quot;, &quot;operator:wikidata&quot;: &quot;Q1320340&quot;, &quot;operator:wikipedia&quot;: &quot;en:Los Angeles Unified School District&quot;, &quot;phone&quot;: &quot;+1-818-778-6800&quot;, &quot;type&quot;: &quot;multipolygon&quot;, &quot;website&quot;: &quot;http://www.edline.net/pages/Van_Nuys_Senior_High&quot;, &quot;wheelchair&quot;: &quot;limited&quot;, &quot;wikidata&quot;: &quot;Q4008476&quot;, &quot;wikipedia&quot;: &quot;en:Van Nuys High School&quot;}, &quot;type&quot;: &quot;Feature&quot;}, {&quot;geometry&quot;: {&quot;coordinates&quot;: [-118.4658543, 34.2409568], &quot;type&quot;: &quot;Point&quot;}, &quot;id&quot;: &quot;relation/6699501&quot;, &quot;properties&quot;: {&quot;@geometry&quot;: &quot;center&quot;, &quot;@id&quot;: &quot;relation/6699501&quot;, &quot;addr:city&quot;: &quot;North Hills&quot;, &quot;addr:state&quot;: &quot;CA&quot;, &quot;amenity&quot;: &quot;school&quot;, &quot;ele&quot;: &quot;264&quot;, &quot;gnis:county_id&quot;: &quot;037&quot;, &quot;gnis:created&quot;: &quot;06/14/2000&quot;, &quot;gnis:feature_id&quot;: &quot;242433&quot;, &quot;gnis:state_id&quot;: &quot;06&quot;, &quot;name&quot;: &quot;Sepulveda Middle School&quot;, &quot;operator&quot;: &quot;Los Angeles Unified School District&quot;, &quot;operator:short&quot;: &quot;LAUSD&quot;, &quot;operator:type&quot;: &quot;public&quot;, &quot;operator:wikidata&quot;: &quot;Q1320340&quot;, &quot;type&quot;: &quot;multipolygon&quot;}, &quot;type&quot;: &quot;Feature&quot;}, {&quot;geometry&quot;: {&quot;coordinates&quot;: [-118.4656203, 34.2398139], &quot;type&quot;: &quot;Point&quot;}, &quot;id&quot;: &quot;relation/6699502&quot;, &quot;properties&quot;: {&quot;@geometry&quot;: &quot;center&quot;, &quot;@id&quot;: &quot;relation/6699502&quot;, &quot;addr:city&quot;: &quot;North Hills&quot;, &quot;addr:state&quot;: &quot;CA&quot;, &quot;amenity&quot;: &quot;school&quot;, &quot;name&quot;: &quot;Carlos Santana Arts Academy&quot;, &quot;type&quot;: &quot;multipolygon&quot;}, &quot;type&quot;: &quot;Feature&quot;}, {&quot;geometry&quot;: {&quot;coordinates&quot;: [-118.4599161, 34.2400733], &quot;type&quot;: &quot;Point&quot;}, &quot;id&quot;: &quot;relation/6818983&quot;, &quot;properties&quot;: {&quot;@geometry&quot;: &quot;center&quot;, &quot;@id&quot;: &quot;relation/6818983&quot;, &quot;amenity&quot;: &quot;school&quot;, &quot;ele&quot;: &quot;261&quot;, &quot;gnis:county_id&quot;: &quot;037&quot;, &quot;gnis:created&quot;: &quot;06/14/2000&quot;, &quot;gnis:feature_id&quot;: &quot;247623&quot;, &quot;gnis:state_id&quot;: &quot;06&quot;, &quot;name&quot;: &quot;Plummer Elementary School&quot;, &quot;type&quot;: &quot;multipolygon&quot;}, &quot;type&quot;: &quot;Feature&quot;}, {&quot;geometry&quot;: {&quot;coordinates&quot;: [-118.4598439, 34.247152], &quot;type&quot;: &quot;Point&quot;}, &quot;id&quot;: &quot;relation/6855835&quot;, &quot;properties&quot;: {&quot;@geometry&quot;: &quot;center&quot;, &quot;@id&quot;: &quot;relation/6855835&quot;, &quot;addr:city&quot;: &quot;North Hills&quot;, &quot;addr:housenumber&quot;: &quot;15017&quot;, &quot;addr:postcode&quot;: &quot;91343&quot;, &quot;addr:state&quot;: &quot;CA&quot;, &quot;addr:street&quot;: &quot;Superior Street&quot;, &quot;amenity&quot;: &quot;school&quot;, &quot;ele&quot;: &quot;268&quot;, &quot;gnis:county_id&quot;: &quot;037&quot;, &quot;gnis:created&quot;: &quot;06/14/2000&quot;, &quot;gnis:feature_id&quot;: &quot;244635&quot;, &quot;gnis:state_id&quot;: &quot;06&quot;, &quot;name&quot;: &quot;Lassen Elementary School&quot;, &quot;operator&quot;: &quot;Los Angeles Unified School District&quot;, &quot;operator:short&quot;: &quot;LAUSD&quot;, &quot;operator:type&quot;: &quot;public&quot;, &quot;operator:wikidata&quot;: &quot;Q1320340&quot;, &quot;operator:wikipedia&quot;: &quot;en:Los Angeles Unified School District&quot;, &quot;type&quot;: &quot;multipolygon&quot;}, &quot;type&quot;: &quot;Feature&quot;}, {&quot;geometry&quot;: {&quot;coordinates&quot;: [-118.5243813, 34.2453419], &quot;type&quot;: &quot;Point&quot;}, &quot;id&quot;: &quot;relation/7127287&quot;, &quot;properties&quot;: {&quot;@geometry&quot;: &quot;center&quot;, &quot;@id&quot;: &quot;relation/7127287&quot;, &quot;addr:city&quot;: &quot;Northridge&quot;, &quot;addr:housenumber&quot;: &quot;9601&quot;, &quot;addr:postcode&quot;: &quot;91330&quot;, &quot;addr:state&quot;: &quot;CA&quot;, &quot;addr:street&quot;: &quot;Zelzah Avenue&quot;, &quot;amenity&quot;: &quot;school&quot;, &quot;lanes&quot;: &quot;5&quot;, &quot;name&quot;: &quot;Northridge Academy High School&quot;, &quot;type&quot;: &quot;multipolygon&quot;, &quot;wikidata&quot;: &quot;Q7059639&quot;}, &quot;type&quot;: &quot;Feature&quot;}, {&quot;geometry&quot;: {&quot;coordinates&quot;: [-118.4785274, 34.2374539], &quot;type&quot;: &quot;Point&quot;}, &quot;id&quot;: &quot;relation/7419070&quot;, &quot;properties&quot;: {&quot;@geometry&quot;: &quot;center&quot;, &quot;@id&quot;: &quot;relation/7419070&quot;, &quot;addr:city&quot;: &quot;North Hills&quot;, &quot;addr:state&quot;: &quot;CA&quot;, &quot;amenity&quot;: &quot;school&quot;, &quot;ele&quot;: &quot;259&quot;, &quot;gnis:county_id&quot;: &quot;037&quot;, &quot;gnis:created&quot;: &quot;06/14/2000&quot;, &quot;gnis:edited&quot;: &quot;08/01/2007&quot;, &quot;gnis:feature_id&quot;: &quot;246084&quot;, &quot;gnis:state_id&quot;: &quot;06&quot;, &quot;name&quot;: &quot;James Monroe High School&quot;, &quot;type&quot;: &quot;multipolygon&quot;, &quot;wikidata&quot;: &quot;Q6139908&quot;}, &quot;type&quot;: &quot;Feature&quot;}, {&quot;geometry&quot;: {&quot;coordinates&quot;: [-118.4692443, 34.2339755], &quot;type&quot;: &quot;Point&quot;}, &quot;id&quot;: &quot;relation/7462080&quot;, &quot;properties&quot;: {&quot;@geometry&quot;: &quot;center&quot;, &quot;@id&quot;: &quot;relation/7462080&quot;, &quot;addr:city&quot;: &quot;North Hills&quot;, &quot;addr:postcode&quot;: &quot;91343&quot;, &quot;addr:state&quot;: &quot;CA&quot;, &quot;addr:street&quot;: &quot;Langdon Avenue&quot;, &quot;amenity&quot;: &quot;school&quot;, &quot;name&quot;: &quot;Our Lady of Peace Catholic School&quot;, &quot;type&quot;: &quot;multipolygon&quot;}, &quot;type&quot;: &quot;Feature&quot;}, {&quot;geometry&quot;: {&quot;coordinates&quot;: [-118.4815653, 34.2410358], &quot;type&quot;: &quot;Point&quot;}, &quot;id&quot;: &quot;relation/7567391&quot;, &quot;properties&quot;: {&quot;@geometry&quot;: &quot;center&quot;, &quot;@id&quot;: &quot;relation/7567391&quot;, &quot;addr:city&quot;: &quot;North Hills&quot;, &quot;addr:housenumber&quot;: &quot;16030&quot;, &quot;addr:postcode&quot;: &quot;91343&quot;, &quot;addr:state&quot;: &quot;CA&quot;, &quot;addr:street&quot;: &quot;Gledhill Street&quot;, &quot;amenity&quot;: &quot;school&quot;, &quot;ele&quot;: &quot;260&quot;, &quot;name&quot;: &quot;Gledhill Elementary School&quot;, &quot;operator&quot;: &quot;Los Angeles Unified School District&quot;, &quot;operator:short&quot;: &quot;LAUSD&quot;, &quot;operator:type&quot;: &quot;public&quot;, &quot;operator:wikidata&quot;: &quot;Q1320340&quot;, &quot;type&quot;: &quot;multipolygon&quot;}, &quot;type&quot;: &quot;Feature&quot;}, {&quot;geometry&quot;: {&quot;coordinates&quot;: [-118.4616898, 34.2309082], &quot;type&quot;: &quot;Point&quot;}, &quot;id&quot;: &quot;relation/7748012&quot;, &quot;properties&quot;: {&quot;@geometry&quot;: &quot;center&quot;, &quot;@id&quot;: &quot;relation/7748012&quot;, &quot;addr:city&quot;: &quot;North Hills&quot;, &quot;addr:housenumber&quot;: &quot;8855&quot;, &quot;addr:postcode&quot;: &quot;91343&quot;, &quot;addr:state&quot;: &quot;CA&quot;, &quot;addr:street&quot;: &quot;Noble Avenue&quot;, &quot;amenity&quot;: &quot;school&quot;, &quot;name&quot;: &quot;Rosa Park Learning Center&quot;, &quot;type&quot;: &quot;multipolygon&quot;}, &quot;type&quot;: &quot;Feature&quot;}, {&quot;geometry&quot;: {&quot;coordinates&quot;: [-118.4617547, 34.223065], &quot;type&quot;: &quot;Point&quot;}, &quot;id&quot;: &quot;relation/7748108&quot;, &quot;properties&quot;: {&quot;@geometry&quot;: &quot;center&quot;, &quot;@id&quot;: &quot;relation/7748108&quot;, &quot;amenity&quot;: &quot;school&quot;, &quot;ele&quot;: &quot;247&quot;, &quot;name&quot;: &quot;Nobel Elementary School&quot;, &quot;type&quot;: &quot;multipolygon&quot;}, &quot;type&quot;: &quot;Feature&quot;}, {&quot;geometry&quot;: {&quot;coordinates&quot;: [-75.693416, 4.7972752], &quot;type&quot;: &quot;Point&quot;}, &quot;id&quot;: &quot;relation/7752531&quot;, &quot;properties&quot;: {&quot;@geometry&quot;: &quot;center&quot;, &quot;@id&quot;: &quot;relation/7752531&quot;, &quot;addr:city&quot;: &quot;Pereira&quot;, &quot;addr:street&quot;: &quot;Carrera 27&quot;, &quot;amenity&quot;: &quot;school&quot;, &quot;name&quot;: &quot;Universidad Antonio Nari\\u00f1o&quot;, &quot;name:en&quot;: &quot;University Antonio Nari\\u00f1o&quot;, &quot;name:es&quot;: &quot;Universidad Antonio Nari\\u00f1o&quot;, &quot;type&quot;: &quot;multipolygon&quot;}, &quot;type&quot;: &quot;Feature&quot;}, {&quot;geometry&quot;: {&quot;coordinates&quot;: [-118.4581697, 34.240684], &quot;type&quot;: &quot;Point&quot;}, &quot;id&quot;: &quot;relation/8857415&quot;, &quot;properties&quot;: {&quot;@geometry&quot;: &quot;center&quot;, &quot;@id&quot;: &quot;relation/8857415&quot;, &quot;addr:city&quot;: &quot;North Hills&quot;, &quot;addr:housenumber&quot;: &quot;9356&quot;, &quot;addr:state&quot;: &quot;CA&quot;, &quot;addr:street&quot;: &quot;Lemona Avenue&quot;, &quot;amenity&quot;: &quot;school&quot;, &quot;denomination&quot;: &quot;none&quot;, &quot;name&quot;: &quot;Valor Academy High School&quot;, &quot;religion&quot;: &quot;none&quot;, &quot;type&quot;: &quot;multipolygon&quot;}, &quot;type&quot;: &quot;Feature&quot;}, {&quot;geometry&quot;: {&quot;coordinates&quot;: [-118.2993736, 34.2614444], &quot;type&quot;: &quot;Point&quot;}, &quot;id&quot;: &quot;relation/10052834&quot;, &quot;properties&quot;: {&quot;@geometry&quot;: &quot;center&quot;, &quot;@id&quot;: &quot;relation/10052834&quot;, &quot;amenity&quot;: &quot;school&quot;, &quot;name&quot;: &quot;Verdugo Hills High School&quot;, &quot;source&quot;: &quot;Yahoo&quot;, &quot;type&quot;: &quot;multipolygon&quot;, &quot;wikidata&quot;: &quot;Q7921149&quot;}, &quot;type&quot;: &quot;Feature&quot;}, {&quot;geometry&quot;: {&quot;coordinates&quot;: [-118.4244863, 34.314101], &quot;type&quot;: &quot;Point&quot;}, &quot;id&quot;: &quot;relation/11146069&quot;, &quot;properties&quot;: {&quot;@geometry&quot;: &quot;center&quot;, &quot;@id&quot;: &quot;relation/11146069&quot;, &quot;amenity&quot;: &quot;school&quot;, &quot;ele&quot;: &quot;418&quot;, &quot;gnis:created&quot;: &quot;06/14/2000&quot;, &quot;gnis:feature_id&quot;: &quot;243709&quot;, &quot;name&quot;: &quot;Hubbard Elementary School&quot;, &quot;type&quot;: &quot;multipolygon&quot;}, &quot;type&quot;: &quot;Feature&quot;}, {&quot;geometry&quot;: {&quot;coordinates&quot;: [-118.413437, 34.0371246], &quot;type&quot;: &quot;Point&quot;}, &quot;id&quot;: &quot;relation/12356918&quot;, &quot;properties&quot;: {&quot;@geometry&quot;: &quot;center&quot;, &quot;@id&quot;: &quot;relation/12356918&quot;, &quot;amenity&quot;: &quot;school&quot;, &quot;name&quot;: &quot;Le Lyc\\u00e9e Fran\\u00e7ais de Los Angeles&quot;, &quot;operator:type&quot;: &quot;private&quot;, &quot;type&quot;: &quot;multipolygon&quot;, &quot;website&quot;: &quot;https://www.lyceela.org/&quot;, &quot;wikidata&quot;: &quot;Q3269090&quot;}, &quot;type&quot;: &quot;Feature&quot;}, {&quot;geometry&quot;: {&quot;coordinates&quot;: [-118.462641, 34.2349593], &quot;type&quot;: &quot;Point&quot;}, &quot;id&quot;: &quot;relation/14929744&quot;, &quot;properties&quot;: {&quot;@geometry&quot;: &quot;center&quot;, &quot;@id&quot;: &quot;relation/14929744&quot;, &quot;addr:city&quot;: &quot;North Hills&quot;, &quot;addr:housenumber&quot;: &quot;9034&quot;, &quot;addr:postcode&quot;: &quot;91343&quot;, &quot;addr:state&quot;: &quot;CA&quot;, &quot;addr:street&quot;: &quot;Burnet Avenue&quot;, &quot;amenity&quot;: &quot;school&quot;, &quot;name&quot;: &quot;Valor Academy Middle School&quot;, &quot;type&quot;: &quot;multipolygon&quot;}, &quot;type&quot;: &quot;Feature&quot;}, {&quot;geometry&quot;: {&quot;coordinates&quot;: [-118.4609953, 34.2771955], &quot;type&quot;: &quot;Point&quot;}, &quot;id&quot;: &quot;relation/15083527&quot;, &quot;properties&quot;: {&quot;@geometry&quot;: &quot;center&quot;, &quot;@id&quot;: &quot;relation/15083527&quot;, &quot;amenity&quot;: &quot;school&quot;, &quot;ele&quot;: &quot;311&quot;, &quot;gnis:county_id&quot;: &quot;037&quot;, &quot;gnis:created&quot;: &quot;01/19/1981&quot;, &quot;gnis:feature_id&quot;: &quot;238499&quot;, &quot;gnis:state_id&quot;: &quot;06&quot;, &quot;name&quot;: &quot;Bishop Alemany High School&quot;, &quot;type&quot;: &quot;multipolygon&quot;}, &quot;type&quot;: &quot;Feature&quot;}], &quot;generator&quot;: &quot;overpass-turbo&quot;, &quot;timestamp&quot;: &quot;2023-11-11T10:15:44Z&quot;, &quot;type&quot;: &quot;FeatureCollection&quot;});\n",
              "\n",
              "        \n",
              "    \n",
              "            var layer_control_f56be3a98889d8c21cd0f7afa5cb264a = {\n",
              "                base_layers : {\n",
              "                    &quot;openstreetmap&quot; : tile_layer_59bff3aa89ed7ea8fad838ac6fcd266e,\n",
              "                },\n",
              "                overlays :  {\n",
              "                    &quot;Grocery Shops&quot; : geo_json_9296724e9d6ff8139b2a17268c704142,\n",
              "                },\n",
              "            };\n",
              "            L.control.layers(\n",
              "                layer_control_f56be3a98889d8c21cd0f7afa5cb264a.base_layers,\n",
              "                layer_control_f56be3a98889d8c21cd0f7afa5cb264a.overlays,\n",
              "                {&quot;autoZIndex&quot;: true, &quot;collapsed&quot;: true, &quot;position&quot;: &quot;topright&quot;}\n",
              "            ).addTo(map_884bea7fd3c43fc5d3803be99b7bb965);\n",
              "        \n",
              "&lt;/script&gt;\n",
              "&lt;/html&gt;\" style=\"position:absolute;width:100%;height:100%;left:0;top:0;border:none !important;\" allowfullscreen webkitallowfullscreen mozallowfullscreen></iframe></div></div>"
            ]
          },
          "metadata": {},
          "execution_count": 15
        }
      ]
    },
    {
      "cell_type": "code",
      "source": [
        "import geopandas as gpd\n",
        "import matplotlib.pyplot as plt\n",
        "\n",
        "# Load GeoJSON files into GeoDataFrames\n",
        "hospitals = gpd.read_file(\"/content/export (1).geojson\")\n",
        "schools = gpd.read_file(\"/content/export (3).geojson\")\n",
        "\n",
        "# Count the number of features (rows) in each GeoDataFrame\n",
        "hospital_count = len(hospitals)\n",
        "school_count = len(schools)\n",
        "\n",
        "# Create a bar chart\n",
        "categories = ['Hospitals', 'Schools']\n",
        "counts = [hospital_count, school_count]\n",
        "\n",
        "plt.bar(categories, counts, color=['red', 'blue'])\n",
        "plt.xlabel('Category')\n",
        "plt.ylabel('Count')\n",
        "plt.title('Distribution of Hospitals and Schools in Los Angeles')\n",
        "plt.show()\n"
      ],
      "metadata": {
        "id": "8DvlBsAoDsch"
      },
      "execution_count": null,
      "outputs": []
    },
    {
      "cell_type": "markdown",
      "source": [
        "Filter GeoDataFrame: The script first filters the GeoDataFrame to separate hospitals and schools based on the 'amenity' column. It retains only those rows where the 'amenity' is 'hospital' for hospitals and 'school' for schools.\n",
        "\n",
        "Count Amenities: It then counts the number of hospitals and schools using the shape method on the filtered GeoDataFrames. The resulting counts are stored in variables (hospital_counts and school_counts).\n",
        "\n",
        "Create Subplots: The script sets up a 1x2 grid of subplots using plt.subplots(1, 2, figsize=(12, 6)). This creates two side-by-side plots (1 row, 2 columns).\n",
        "\n",
        "Pie Chart: In the first subplot, a pie chart is plotted using axes[0].pie(...). The pie chart represents the distribution of hospitals and schools, showing the proportion of each amenity type relative to the total. The chart includes labels and percentages.\n",
        "\n",
        "Bar Chart: In the second subplot, a bar chart is plotted using axes[1].bar(...). This chart compares the counts of hospitals and schools. The bars are colored differently for better distinction, and the y-axis represents the count.\n",
        "\n",
        "Display Plots: Finally, plt.show() is used to display the entire set of subplots."
      ],
      "metadata": {
        "id": "lYcQfJDyC1Vd"
      }
    },
    {
      "cell_type": "code",
      "source": [
        "import matplotlib.pyplot as plt\n",
        "hospitals = hospital[hospital['amenity'] == 'hospital']\n",
        "school = school[school['amenity'] == 'school']\n",
        "hospital_counts = hospitals.shape[0]\n",
        "school_counts = school.shape[0]\n",
        "fig, axes = plt.subplots(1, 2, figsize=(12, 6))\n",
        "axes[0].pie([hospital_counts, grocery_counts], labels=['Hospitals', 'Schools'], autopct='%1.1f%%', startangle=90)\n",
        "axes[0].axis('equal')\n",
        "axes[0].set_title('Distribution of Hospitals and Schools')\n",
        "\n",
        "# Bar chart\n",
        "amenity_types = ['Hospitals', 'Schools']\n",
        "counts = [hospital_counts, school_counts]\n",
        "\n",
        "axes[1].bar(amenity_types, counts, color=['red', 'blue'])\n",
        "axes[1].set_ylabel('Count')\n",
        "axes[1].set_title('Comparison of Hospitals and Schools')\n",
        "\n",
        "plt.show()"
      ],
      "metadata": {
        "id": "1L1B5b-G-f3m"
      },
      "execution_count": null,
      "outputs": []
    },
    {
      "cell_type": "markdown",
      "source": [
        "Sample Data: The script creates two sample DataFrames, hospital and school, each with an 'amenity' column. These DataFrames simulate datasets containing different amenities, such as hospitals, pharmacies, schools, and libraries.\n",
        "\n",
        "Count Amenities: The script counts the occurrences of specific amenities. In this case, it counts the number of hospitals and schools separately.\n",
        "\n",
        "Create Subplots: The script sets up a 1x2 grid of subplots using plt.subplots(1, 2, figsize=(12, 6)). This creates two side-by-side plots (1 row, 2 columns).\n",
        "\n",
        "Pie Chart for Overall Amenity Distribution: In the first subplot, a pie chart is plotted to show the overall distribution of different amenities. The chart represents the proportion of each amenity type relative to the total. The chart includes labels and percentages.\n",
        "\n",
        "Pie Chart for Hospitals and Schools: In the second subplot, a pie chart is plotted to compare the counts of hospitals and schools. The chart includes labels and percentages, emphasizing the proportion of hospitals and schools in the dataset.\n",
        "\n",
        "Display Plots: Finally, plt.show() is used to display the entire set of subplots."
      ],
      "metadata": {
        "id": "NEBShKSVC_HF"
      }
    },
    {
      "cell_type": "code",
      "source": [
        "import matplotlib.pyplot as plt\n",
        "import pandas as pd\n",
        "\n",
        "# Sample data (replace this with your actual data)\n",
        "hospital_data = {'amenity': ['hospital', 'hospital', 'pharmacy']}\n",
        "school_data = {'amenity': ['school', 'school', 'library']}\n",
        "\n",
        "hospital = pd.DataFrame(hospital_data)\n",
        "school = pd.DataFrame(school_data)\n",
        "\n",
        "# Count the number of hospitals and schools\n",
        "hospital_count = len(hospital[hospital['amenity'] == 'hospital'])\n",
        "school_count = len(school[school['amenity'] == 'school'])\n",
        "\n",
        "# Plot a pie chart\n",
        "fig, ax = plt.subplots(1, 2, figsize=(12, 6))\n",
        "\n",
        "# Pie chart for overall amenity distribution\n",
        "ax[0].pie(hospital['amenity'].value_counts(), labels=hospital['amenity'].value_counts().index, autopct='%1.1f%%', startangle=90)\n",
        "ax[0].axis('equal')  # Equal aspect ratio ensures that pie is drawn as a circle.\n",
        "ax[0].set_title('Distribution of Amenities')\n",
        "\n",
        "# Pie chart for hospitals and schools\n",
        "ax[1].pie([hospital_count, school_count], labels=['Hospitals', 'Schools'], autopct='%1.1f%%', startangle=90)\n",
        "ax[1].axis('equal')  # Equal aspect ratio ensures that pie is drawn as a circle.\n",
        "ax[1].set_title('Distribution of Hospitals and Schools')\n",
        "\n",
        "plt.show()\n"
      ],
      "metadata": {
        "id": "Ij3oqpl7Exz2"
      },
      "execution_count": null,
      "outputs": []
    }
  ]
}